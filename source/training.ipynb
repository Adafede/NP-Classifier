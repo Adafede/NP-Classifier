{
 "cells": [
  {
   "cell_type": "code",
   "execution_count": 1,
   "metadata": {
    "scrolled": true
   },
   "outputs": [
    {
     "name": "stderr",
     "output_type": "stream",
     "text": [
      "RDKit WARNING: [11:29:33] Enabling RDKit 2019.09.3 jupyter extensions\n"
     ]
    }
   ],
   "source": [
    "import pickle\n",
    "import numpy as np\n",
    "from tqdm import tqdm\n",
    "from rdkit import Chem\n",
    "import Augmentation\n",
    "import Model\n",
    "from fingerprint_handler import _isglycoside\n",
    "from fingerprint_handler import calculate_fingerprint\n",
    "from sklearn.model_selection import train_test_split\n",
    "import tensorflow as tf\n",
    "from tensorflow import keras\n",
    "from tensorflow.keras import datasets, layers, models\n",
    "import os\n",
    "os.environ[\"CUDA_DEVICE_ORDER\"]=\"PCI_BUS_ID\"   \n",
    "os.environ[\"CUDA_VISIBLE_DEVICES\"]=\"1\"\n",
    "\n",
    "\n",
    "np.random.seed(0)\n",
    "\n",
    "\n",
    "with open('Data/char2idx_class_V1.pkl','rb') as f:\n",
    "    class_  = pickle.load(f)\n",
    "with open('Data/char2idx_super_V1.pkl','rb') as f:\n",
    "    superclass_  = pickle.load(f)\n",
    "with open('Data/char2idx_path_V1.pkl','rb') as f:\n",
    "    pathway_  = pickle.load(f)\n",
    "\n",
    "with open('Data/datset_class_all_V1.pkl','rb') as r:\n",
    "    dataset = pickle.load(r)\n",
    "    \n",
    "def data_generation(idx,data):\n",
    "    X_train_f = np.zeros((len(idx),2048),int)\n",
    "    X_train_b = np.zeros((len(idx),4096),int)\n",
    "    Y_train_path = np.zeros((len(idx),len(pathway_)),int)\n",
    "    Y_train_super = np.zeros((len(idx),len(superclass_)),int)\n",
    "    Y_train_class = np.zeros((len(idx),len(class_)),int)\n",
    "    for i,n in enumerate(idx):\n",
    "        smiles = data[n]['SMILES']\n",
    "        X_train_f[i] = calculate_fingerprint(smiles,2)[0]\n",
    "        X_train_b[i] = calculate_fingerprint(smiles,2)[1]\n",
    "        #Y_train_path[i] = dataset[n]['Pathway']\n",
    "        #Y_train_super[i] = dataset[n]['Super_class']\n",
    "        Y_train_class[i] = data[n]['Class']\n",
    "    return [X_train_f,X_train_b], Y_train_class\n",
    "\n",
    "\n",
    "    \n",
    "# Train, Validation, and test set \n",
    "\n",
    "b_key = list(dataset.keys())\n",
    "np.random.shuffle(b_key)\n",
    "dict_ = np.array(b_key)\n",
    "Y_ = np.array([ np.max(np.where(dataset[i]['Class']==1)[0]) for i in dict_])\n",
    "\n",
    "train_D, test_dict, y_train, y_test = train_test_split(dict_, Y_, test_size=0.2, random_state=1, stratify = Y_)\n",
    "train_dict, val_dict, y_train, y_val = train_test_split(train_D, y_train, test_size=0.2, random_state=1, stratify = y_train)\n"
   ]
  },
  {
   "cell_type": "code",
   "execution_count": 2,
   "metadata": {},
   "outputs": [
    {
     "name": "stderr",
     "output_type": "stream",
     "text": [
      "100%|█| 10/10 [00:00<00:00, 27.77it/s]\n"
     ]
    }
   ],
   "source": [
    "#Implement data augmentation\n",
    "aug = {}\n",
    "for i in tqdm(train_dict):\n",
    "    smiles = dataset[i]['SMILES']\n",
    "    ori_path = dataset[i]['Pathway']\n",
    "    ori_sup = dataset[i]['Super_class']\n",
    "    ori_class = dataset[i]['Class']\n",
    "    if _isglycoside(smiles) != True:\n",
    "        smiles_list = Augmentation.methoxy(smiles)\n",
    "        for m in smiles_list:\n",
    "            inchi_key = Chem.inchi.MolToInchiKey(Chem.MolFromSmiles(m))[:14]\n",
    "            if inchi_key not in b_key:\n",
    "                aug[inchi_key] = {'SMILES':m,'Pathway':ori_path,'Super_class':ori_sup,'Class':ori_class}\n",
    "\n",
    "        smiles_list = Augmentation.demethoxy(smiles)\n",
    "        for m in smiles_list:\n",
    "            inchi_key = Chem.inchi.MolToInchiKey(Chem.MolFromSmiles(m))[:14]\n",
    "            if inchi_key not in b_key:\n",
    "                aug[inchi_key] = {'SMILES':m,'Pathway':ori_path,'Super_class':ori_sup,'Class':ori_class}\n",
    "        aug[i] = {'SMILES':smiles,'Pathway':ori_path,'Super_class':ori_sup,'Class':ori_class}\n",
    "\n",
    "    else:\n",
    "        inchi_key = Chem.inchi.MolToInchiKey(Chem.MolFromSmiles(smiles))[:14]\n",
    "        aug[i] = {'SMILES':smiles,'Pathway':ori_path,'Super_class':ori_sup,'Class':ori_class}"
   ]
  },
  {
   "cell_type": "code",
   "execution_count": null,
   "metadata": {},
   "outputs": [],
   "source": [
    "X_train, Y_train = data_generation(list(aug.keys()),aug)\n",
    "X_val, Y_val = data_generation(val_dict,dataset)\n",
    "\n",
    "model = Model.model_build(len(class_))\n",
    "\n",
    "model.fit(x=X_train, y=Y_train, batch_size=128, epochs=100, verbose=2, validation_split=0.0, validation_data=(X_val,Y_val), shuffle=True, class_weight=None, sample_weight=None, initial_epoch=0, steps_per_epoch=None, validation_steps=None, validation_freq=1, max_queue_size=10, workers=1, use_multiprocessing=False)"
   ]
  },
  {
   "cell_type": "code",
   "execution_count": null,
   "metadata": {},
   "outputs": [],
   "source": []
  }
 ],
 "metadata": {
  "kernelspec": {
   "display_name": "Python 3",
   "language": "python",
   "name": "python3"
  },
  "language_info": {
   "codemirror_mode": {
    "name": "ipython",
    "version": 3
   },
   "file_extension": ".py",
   "mimetype": "text/x-python",
   "name": "python",
   "nbconvert_exporter": "python",
   "pygments_lexer": "ipython3",
   "version": "3.7.4"
  }
 },
 "nbformat": 4,
 "nbformat_minor": 2
}
