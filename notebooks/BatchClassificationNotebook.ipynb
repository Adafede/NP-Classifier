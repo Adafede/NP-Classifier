{
 "cells": [
  {
   "cell_type": "code",
   "execution_count": 3,
   "metadata": {},
   "outputs": [],
   "source": [
    "import pandas as pd\n",
    "import grequests\n",
    "import urllib.parse\n",
    "from tqdm import tqdm\n"
   ]
  },
  {
   "cell_type": "code",
   "execution_count": 5,
   "metadata": {},
   "outputs": [
    {
     "name": "stderr",
     "output_type": "stream",
     "text": [
      "100%|██████████| 1/1 [00:00<00:00, 1036.91it/s]\n"
     ]
    }
   ],
   "source": [
    "SERVER_URL = \"https://npclassifier.ucsd.edu\"\n",
    "\n",
    "df = pd.read_csv(\"smiles.tsv\", sep=\"\\t\")\n",
    "\n",
    "all_urls = []\n",
    "\n",
    "for entry in tqdm(df.to_dict(orient=\"records\")):\n",
    "    smiles = str(entry[\"smiles\"])\n",
    "    if len(smiles) > 5:\n",
    "        request_url = \"{}/classify?smiles={}\".format(SERVER_URL, urllib.parse.quote(smiles))\n",
    "        all_urls.append(request_url)\n",
    "\n",
    "# Lets actually do the query and measure the speed\n",
    "rs = (grequests.get(u) for u in all_urls)\n",
    "responses = grequests.map(rs, size=20)"
   ]
  },
  {
   "cell_type": "code",
   "execution_count": 8,
   "metadata": {},
   "outputs": [],
   "source": [
    "all_responses_list = [response.json for response in responses]"
   ]
  },
  {
   "cell_type": "code",
   "execution_count": null,
   "metadata": {},
   "outputs": [],
   "source": []
  }
 ],
 "metadata": {
  "kernelspec": {
   "display_name": "Python 3",
   "language": "python",
   "name": "python3"
  },
  "language_info": {
   "codemirror_mode": {
    "name": "ipython",
    "version": 3
   },
   "file_extension": ".py",
   "mimetype": "text/x-python",
   "name": "python",
   "nbconvert_exporter": "python",
   "pygments_lexer": "ipython3",
   "version": "3.7.3"
  }
 },
 "nbformat": 4,
 "nbformat_minor": 4
}
